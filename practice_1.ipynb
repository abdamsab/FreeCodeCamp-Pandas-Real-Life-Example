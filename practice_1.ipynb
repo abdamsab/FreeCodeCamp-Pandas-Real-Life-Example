{
  "nbformat": 4,
  "nbformat_minor": 0,
  "metadata": {
    "colab": {
      "name": "practice_1.ipynb",
      "provenance": [],
      "authorship_tag": "ABX9TyNVEs+z7omtq7oTYmRgCZzd",
      "include_colab_link": true
    },
    "kernelspec": {
      "name": "python3",
      "display_name": "Python 3"
    },
    "language_info": {
      "name": "python"
    }
  },
  "cells": [
    {
      "cell_type": "markdown",
      "metadata": {
        "id": "view-in-github",
        "colab_type": "text"
      },
      "source": [
        "<a href=\"https://colab.research.google.com/github/abdamsab/FreeCodeCamp-Pandas-Real-Life-Example/blob/master/practice_1.ipynb\" target=\"_parent\"><img src=\"https://colab.research.google.com/assets/colab-badge.svg\" alt=\"Open In Colab\"/></a>"
      ]
    },
    {
      "cell_type": "code",
      "execution_count": 1,
      "metadata": {
        "id": "2IGCld_GcDLp"
      },
      "outputs": [],
      "source": [
        "import numpy as np\n",
        "import pandas as pd\n",
        "import matplotlib.pyplot as plt\n",
        "\n",
        "%matplotlib inline"
      ]
    },
    {
      "cell_type": "markdown",
      "source": [
        "**Loading our data**"
      ],
      "metadata": {
        "id": "0YchuDdXc_ei"
      }
    },
    {
      "cell_type": "code",
      "source": [
        "!head data/sales_data.csv"
      ],
      "metadata": {
        "colab": {
          "base_uri": "https://localhost:8080/"
        },
        "id": "WhZRm_VQdVMu",
        "outputId": "df1918ea-d04e-419f-f092-90e0d8bae720"
      },
      "execution_count": 2,
      "outputs": [
        {
          "output_type": "stream",
          "name": "stdout",
          "text": [
            "head: cannot open 'data/sales_data.csv' for reading: No such file or directory\n"
          ]
        }
      ]
    }
  ]
}